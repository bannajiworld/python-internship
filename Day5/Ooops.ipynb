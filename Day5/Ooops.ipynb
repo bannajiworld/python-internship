{
 "cells": [
  {
   "cell_type": "code",
   "execution_count": 1,
   "id": "c0e05e1d",
   "metadata": {},
   "outputs": [],
   "source": [
    "#OOP in python"
   ]
  },
  {
   "cell_type": "code",
   "execution_count": 28,
   "id": "382db6e3",
   "metadata": {},
   "outputs": [],
   "source": [
    "class first:\n",
    "    def f1(self):\n",
    "        print(\"hello google\")\n",
    "    def f2(self,name):\n",
    "        print(\"hello yahoo \"+ name)\n"
   ]
  },
  {
   "cell_type": "code",
   "execution_count": 29,
   "id": "e7b45f3e",
   "metadata": {},
   "outputs": [],
   "source": [
    "j=first()"
   ]
  },
  {
   "cell_type": "code",
   "execution_count": 30,
   "id": "8ca4547f",
   "metadata": {},
   "outputs": [
    {
     "name": "stdout",
     "output_type": "stream",
     "text": [
      "hello google\n"
     ]
    }
   ],
   "source": [
    "j.f1()"
   ]
  },
  {
   "cell_type": "code",
   "execution_count": 31,
   "id": "957c3ee1",
   "metadata": {},
   "outputs": [
    {
     "name": "stdout",
     "output_type": "stream",
     "text": [
      "hello yahoo good\n"
     ]
    }
   ],
   "source": [
    "j.f2(\"good\")"
   ]
  },
  {
   "cell_type": "code",
   "execution_count": 33,
   "id": "a4d8cc61",
   "metadata": {},
   "outputs": [],
   "source": [
    "#sum of 2 number using class"
   ]
  },
  {
   "cell_type": "code",
   "execution_count": 34,
   "id": "b418ed87",
   "metadata": {},
   "outputs": [],
   "source": [
    "class sum:\n",
    "    def su(self,num1,num2):\n",
    "        return num1+num2"
   ]
  },
  {
   "cell_type": "code",
   "execution_count": 35,
   "id": "0860708f",
   "metadata": {},
   "outputs": [],
   "source": [
    "forsum=sum()"
   ]
  },
  {
   "cell_type": "code",
   "execution_count": 36,
   "id": "18ddd932",
   "metadata": {},
   "outputs": [
    {
     "data": {
      "text/plain": [
       "3"
      ]
     },
     "execution_count": 36,
     "metadata": {},
     "output_type": "execute_result"
    }
   ],
   "source": [
    "forsum.su(1,2)"
   ]
  },
  {
   "cell_type": "code",
   "execution_count": 37,
   "id": "00f93689",
   "metadata": {},
   "outputs": [],
   "source": [
    "#python constructors"
   ]
  },
  {
   "cell_type": "code",
   "execution_count": 42,
   "id": "431175e5",
   "metadata": {},
   "outputs": [],
   "source": [
    "class selfe:\n",
    "    def __init__(self):\n",
    "        print(\"every time\")"
   ]
  },
  {
   "cell_type": "code",
   "execution_count": 43,
   "id": "36001e57",
   "metadata": {},
   "outputs": [
    {
     "name": "stdout",
     "output_type": "stream",
     "text": [
      "every time\n"
     ]
    }
   ],
   "source": [
    "M= selfe()"
   ]
  },
  {
   "cell_type": "code",
   "execution_count": null,
   "id": "7d698551",
   "metadata": {},
   "outputs": [],
   "source": []
  }
 ],
 "metadata": {
  "kernelspec": {
   "display_name": "Python 3",
   "language": "python",
   "name": "python3"
  },
  "language_info": {
   "codemirror_mode": {
    "name": "ipython",
    "version": 3
   },
   "file_extension": ".py",
   "mimetype": "text/x-python",
   "name": "python",
   "nbconvert_exporter": "python",
   "pygments_lexer": "ipython3",
   "version": "3.8.5"
  }
 },
 "nbformat": 4,
 "nbformat_minor": 5
}

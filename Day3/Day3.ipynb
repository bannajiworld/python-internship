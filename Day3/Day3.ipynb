{
 "cells": [
  {
   "cell_type": "code",
   "execution_count": 1,
   "id": "9e2c5841",
   "metadata": {},
   "outputs": [],
   "source": [
    "#I/O function conditinal statement"
   ]
  },
  {
   "cell_type": "code",
   "execution_count": 2,
   "id": "21053792",
   "metadata": {},
   "outputs": [
    {
     "name": "stdout",
     "output_type": "stream",
     "text": [
      "enter a age: 12\n"
     ]
    }
   ],
   "source": [
    "a=input(\"enter a age: \")"
   ]
  },
  {
   "cell_type": "code",
   "execution_count": 3,
   "id": "ea46770c",
   "metadata": {},
   "outputs": [
    {
     "name": "stdout",
     "output_type": "stream",
     "text": [
      "your age is 12\n"
     ]
    }
   ],
   "source": [
    "print(\"your age is\",a)"
   ]
  },
  {
   "cell_type": "code",
   "execution_count": 4,
   "id": "ea4ac7f5",
   "metadata": {},
   "outputs": [],
   "source": [
    "#conditional Statements"
   ]
  },
  {
   "cell_type": "code",
   "execution_count": 5,
   "id": "36a163f0",
   "metadata": {},
   "outputs": [],
   "source": [
    "#if Statement"
   ]
  },
  {
   "cell_type": "code",
   "execution_count": 6,
   "id": "9da220f0",
   "metadata": {},
   "outputs": [],
   "source": [
    "a=10\n",
    "b=20"
   ]
  },
  {
   "cell_type": "code",
   "execution_count": 9,
   "id": "75281312",
   "metadata": {},
   "outputs": [
    {
     "name": "stdout",
     "output_type": "stream",
     "text": [
      "b is greater then a\n"
     ]
    }
   ],
   "source": [
    "if a>b:\n",
    "    print(\"a is greater then b\")\n",
    "if a<b:\n",
    "    print(\"b is greater then a\")"
   ]
  },
  {
   "cell_type": "code",
   "execution_count": 10,
   "id": "d7d04f90",
   "metadata": {},
   "outputs": [],
   "source": [
    "#if else statement"
   ]
  },
  {
   "cell_type": "code",
   "execution_count": 11,
   "id": "3b8290c3",
   "metadata": {},
   "outputs": [
    {
     "name": "stdout",
     "output_type": "stream",
     "text": [
      "b is greater then a\n"
     ]
    }
   ],
   "source": [
    "if a>b:\n",
    "    print(\"a is greater then b\")\n",
    "else:\n",
    "    print(\"b is greater then a\")"
   ]
  },
  {
   "cell_type": "code",
   "execution_count": 12,
   "id": "6903317e",
   "metadata": {},
   "outputs": [],
   "source": [
    "#if  elis else"
   ]
  },
  {
   "cell_type": "code",
   "execution_count": 19,
   "id": "05d93f13",
   "metadata": {},
   "outputs": [
    {
     "name": "stdout",
     "output_type": "stream",
     "text": [
      "enter your age: 1\n"
     ]
    }
   ],
   "source": [
    "age=int(input(\"enter your age: \"))"
   ]
  },
  {
   "cell_type": "code",
   "execution_count": 20,
   "id": "d8485a30",
   "metadata": {},
   "outputs": [
    {
     "name": "stdout",
     "output_type": "stream",
     "text": [
      "try after age of 18\n"
     ]
    }
   ],
   "source": [
    "if age==18:\n",
    "    print(\"You can Work with Us\")\n",
    "elif age<18:\n",
    "    print(\"try after age of 18\")\n",
    "else:\n",
    "    print(\"great you can work with us\")"
   ]
  },
  {
   "cell_type": "code",
   "execution_count": null,
   "id": "57f721d2",
   "metadata": {},
   "outputs": [],
   "source": []
  }
 ],
 "metadata": {
  "kernelspec": {
   "display_name": "Python 3",
   "language": "python",
   "name": "python3"
  },
  "language_info": {
   "codemirror_mode": {
    "name": "ipython",
    "version": 3
   },
   "file_extension": ".py",
   "mimetype": "text/x-python",
   "name": "python",
   "nbconvert_exporter": "python",
   "pygments_lexer": "ipython3",
   "version": "3.8.5"
  }
 },
 "nbformat": 4,
 "nbformat_minor": 5
}

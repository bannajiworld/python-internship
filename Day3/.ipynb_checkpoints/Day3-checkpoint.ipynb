{
 "cells": [
  {
   "cell_type": "code",
   "execution_count": 1,
   "id": "20a62c56",
   "metadata": {},
   "outputs": [],
   "source": [
    "#I/O function conditinal statement"
   ]
  },
  {
   "cell_type": "code",
   "execution_count": 2,
   "id": "81aaed3a",
   "metadata": {},
   "outputs": [
    {
     "name": "stdout",
     "output_type": "stream",
     "text": [
      "enter a age: 12\n"
     ]
    }
   ],
   "source": [
    "a=input(\"enter a age: \")"
   ]
  },
  {
   "cell_type": "code",
   "execution_count": 3,
   "id": "2c5e0afc",
   "metadata": {},
   "outputs": [
    {
     "name": "stdout",
     "output_type": "stream",
     "text": [
      "your age is 12\n"
     ]
    }
   ],
   "source": [
    "print(\"your age is\",a)"
   ]
  },
  {
   "cell_type": "code",
   "execution_count": 4,
   "id": "6b093c54",
   "metadata": {},
   "outputs": [],
   "source": [
    "#conditional Statements"
   ]
  },
  {
   "cell_type": "code",
   "execution_count": 5,
   "id": "0357307d",
   "metadata": {},
   "outputs": [],
   "source": [
    "#if Statement"
   ]
  },
  {
   "cell_type": "code",
   "execution_count": 6,
   "id": "4751a304",
   "metadata": {},
   "outputs": [],
   "source": [
    "a=10\n",
    "b=20"
   ]
  },
  {
   "cell_type": "code",
   "execution_count": 9,
   "id": "c3923610",
   "metadata": {},
   "outputs": [
    {
     "name": "stdout",
     "output_type": "stream",
     "text": [
      "b is greater then a\n"
     ]
    }
   ],
   "source": [
    "if a>b:\n",
    "    print(\"a is greater then b\")\n",
    "if a<b:\n",
    "    print(\"b is greater then a\")"
   ]
  },
  {
   "cell_type": "code",
   "execution_count": 10,
   "id": "89740298",
   "metadata": {},
   "outputs": [],
   "source": [
    "#if else statement"
   ]
  },
  {
   "cell_type": "code",
   "execution_count": 11,
   "id": "8acd730c",
   "metadata": {},
   "outputs": [
    {
     "name": "stdout",
     "output_type": "stream",
     "text": [
      "b is greater then a\n"
     ]
    }
   ],
   "source": [
    "if a>b:\n",
    "    print(\"a is greater then b\")\n",
    "else:\n",
    "    print(\"b is greater then a\")"
   ]
  },
  {
   "cell_type": "code",
   "execution_count": 12,
   "id": "0d60dbd7",
   "metadata": {},
   "outputs": [],
   "source": [
    "#if  elis else"
   ]
  },
  {
   "cell_type": "code",
   "execution_count": 19,
   "id": "f5acada0",
   "metadata": {},
   "outputs": [
    {
     "name": "stdout",
     "output_type": "stream",
     "text": [
      "enter your age: 1\n"
     ]
    }
   ],
   "source": [
    "age=int(input(\"enter your age: \"))"
   ]
  },
  {
   "cell_type": "code",
   "execution_count": 20,
   "id": "7ad584df",
   "metadata": {},
   "outputs": [
    {
     "name": "stdout",
     "output_type": "stream",
     "text": [
      "try after age of 18\n"
     ]
    }
   ],
   "source": [
    "if age==18:\n",
    "    print(\"You can Work with Us\")\n",
    "elif age<18:\n",
    "    print(\"try after age of 18\")\n",
    "else:\n",
    "    print(\"great you can work with us\")"
   ]
  },
  {
   "cell_type": "code",
   "execution_count": 21,
   "id": "e57a87b6",
   "metadata": {},
   "outputs": [],
   "source": [
    "#nested if "
   ]
  },
  {
   "cell_type": "code",
   "execution_count": null,
   "id": "cce13f35",
   "metadata": {},
   "outputs": [],
   "source": [
    "i=int(input(\"Enter a number \"))"
   ]
  },
  {
   "cell_type": "code",
   "execution_count": 17,
   "id": "e1be4308",
   "metadata": {
    "scrolled": true
   },
   "outputs": [
    {
     "name": "stdout",
     "output_type": "stream",
     "text": [
      "number is less then 20\n"
     ]
    }
   ],
   "source": [
    "if i>0:\n",
    "    if i>20:\n",
    "        print(\"number is greater then 20\")\n",
    "    else:\n",
    "        print(\"number is less then 20\")\n",
    "else:\n",
    "    print(\"try again\")"
   ]
  },
  {
   "cell_type": "code",
   "execution_count": null,
   "id": "cc6e4caf",
   "metadata": {},
   "outputs": [],
   "source": [
    "#loops"
   ]
  },
  {
   "cell_type": "code",
   "execution_count": null,
   "id": "f781f253",
   "metadata": {},
   "outputs": [],
   "source": [
    "#while loop"
   ]
  },
  {
   "cell_type": "code",
   "execution_count": 1,
   "id": "a38e392d",
   "metadata": {},
   "outputs": [],
   "source": [
    "x=0"
   ]
  },
  {
   "cell_type": "code",
   "execution_count": 2,
   "id": "be7ba585",
   "metadata": {},
   "outputs": [
    {
     "name": "stdout",
     "output_type": "stream",
     "text": [
      "0\n",
      "1\n",
      "2\n",
      "3\n",
      "4\n",
      "5\n",
      "6\n",
      "7\n",
      "8\n",
      "9\n"
     ]
    }
   ],
   "source": [
    "while x<10:\n",
    "    print(x)\n",
    "    x+=1"
   ]
  },
  {
   "cell_type": "code",
   "execution_count": 3,
   "id": "e3968082",
   "metadata": {},
   "outputs": [],
   "source": [
    "#for loop"
   ]
  },
  {
   "cell_type": "code",
   "execution_count": 5,
   "id": "94b4e1fc",
   "metadata": {},
   "outputs": [],
   "source": [
    "l1=[\"machine\", \"python\", \"data\",\"list\"]"
   ]
  },
  {
   "cell_type": "code",
   "execution_count": 6,
   "id": "ce82c2f8",
   "metadata": {},
   "outputs": [
    {
     "name": "stdout",
     "output_type": "stream",
     "text": [
      "machine\n",
      "python\n",
      "data\n",
      "list\n"
     ]
    }
   ],
   "source": [
    "for x in l1:\n",
    "    print(x)"
   ]
  },
  {
   "cell_type": "code",
   "execution_count": 7,
   "id": "6797b7bc",
   "metadata": {},
   "outputs": [],
   "source": [
    "#break  statement"
   ]
  },
  {
   "cell_type": "code",
   "execution_count": 10,
   "id": "4142ef6d",
   "metadata": {},
   "outputs": [
    {
     "name": "stdout",
     "output_type": "stream",
     "text": [
      "machine\n",
      "python\n"
     ]
    }
   ],
   "source": [
    "for x in l1:\n",
    "    print(x)\n",
    "    if x==\"python\":\n",
    "        break"
   ]
  },
  {
   "cell_type": "code",
   "execution_count": 13,
   "id": "3af83844",
   "metadata": {},
   "outputs": [
    {
     "name": "stdout",
     "output_type": "stream",
     "text": [
      "machine\n",
      "data\n",
      "list\n"
     ]
    }
   ],
   "source": [
    "for x in l1:\n",
    "    if x==\"python\":\n",
    "        continue\n",
    "    print(x)"
   ]
  },
  {
   "cell_type": "code",
   "execution_count": 16,
   "id": "7112e56a",
   "metadata": {},
   "outputs": [],
   "source": [
    "for x in l1:\n",
    "    pass"
   ]
  },
  {
   "cell_type": "code",
   "execution_count": null,
   "id": "53bf47c7",
   "metadata": {},
   "outputs": [],
   "source": []
  },
  {
   "cell_type": "code",
   "execution_count": null,
   "id": "96eaec08",
   "metadata": {},
   "outputs": [],
   "source": []
  }
 ],
 "metadata": {
  "kernelspec": {
   "display_name": "Python 3",
   "language": "python",
   "name": "python3"
  },
  "language_info": {
   "codemirror_mode": {
    "name": "ipython",
    "version": 3
   },
   "file_extension": ".py",
   "mimetype": "text/x-python",
   "name": "python",
   "nbconvert_exporter": "python",
   "pygments_lexer": "ipython3",
   "version": "3.8.5"
  }
 },
 "nbformat": 4,
 "nbformat_minor": 5
}

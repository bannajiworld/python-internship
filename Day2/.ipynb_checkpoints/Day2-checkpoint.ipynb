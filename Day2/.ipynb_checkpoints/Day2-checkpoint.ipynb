{
 "cells": [
  {
   "cell_type": "code",
   "execution_count": 1,
   "id": "da8f4a14",
   "metadata": {},
   "outputs": [],
   "source": [
    "#comments, Variable & Datatype"
   ]
  },
  {
   "cell_type": "code",
   "execution_count": 2,
   "id": "21353d5a",
   "metadata": {},
   "outputs": [],
   "source": [
    "#Comments"
   ]
  },
  {
   "cell_type": "code",
   "execution_count": 9,
   "id": "104f583c",
   "metadata": {},
   "outputs": [],
   "source": [
    "# you can define singal line comment this way\n",
    "'''you can define multiline comment this way'''"
   ]
  },
  {
   "cell_type": "code",
   "execution_count": 10,
   "id": "d7553afb",
   "metadata": {},
   "outputs": [],
   "source": [
    "# Variable In python"
   ]
  },
  {
   "cell_type": "code",
   "execution_count": 11,
   "id": "070a9deb",
   "metadata": {},
   "outputs": [],
   "source": [
    "a=10\n",
    "b=\"jay\"\n",
    "c= 15.5\n"
   ]
  },
  {
   "cell_type": "code",
   "execution_count": 13,
   "id": "f24dae04",
   "metadata": {},
   "outputs": [
    {
     "name": "stdout",
     "output_type": "stream",
     "text": [
      "10\n",
      "my name is jay\n",
      "15.5\n"
     ]
    }
   ],
   "source": [
    "print(a)\n",
    "print(\"my name is\",b)\n",
    "print(c)"
   ]
  },
  {
   "cell_type": "code",
   "execution_count": 16,
   "id": "44513ef2",
   "metadata": {},
   "outputs": [],
   "source": [
    "a=20 # change Values of variable"
   ]
  },
  {
   "cell_type": "code",
   "execution_count": 17,
   "id": "27f0dd3c",
   "metadata": {},
   "outputs": [
    {
     "name": "stdout",
     "output_type": "stream",
     "text": [
      "20\n"
     ]
    }
   ],
   "source": [
    "print(a)"
   ]
  },
  {
   "cell_type": "code",
   "execution_count": 18,
   "id": "8898ee25",
   "metadata": {},
   "outputs": [],
   "source": [
    "a,b,c = 12, \"jay\", 19.9"
   ]
  },
  {
   "cell_type": "code",
   "execution_count": 19,
   "id": "a62e484f",
   "metadata": {},
   "outputs": [
    {
     "name": "stdout",
     "output_type": "stream",
     "text": [
      "12 jay 19.9\n"
     ]
    }
   ],
   "source": [
    "print(a,b,c)"
   ]
  },
  {
   "cell_type": "code",
   "execution_count": 21,
   "id": "abb88d5e",
   "metadata": {},
   "outputs": [],
   "source": [
    "#Data Types in Python"
   ]
  },
  {
   "cell_type": "markdown",
   "id": "b893d97b",
   "metadata": {},
   "source": [
    "Numbers|\n",
    "String|\n",
    "List|\n",
    "Tuple|\n",
    "Dictionary|\n",
    "Boolean|\n"
   ]
  },
  {
   "cell_type": "code",
   "execution_count": 22,
   "id": "c9171a2a",
   "metadata": {},
   "outputs": [],
   "source": [
    "#Number "
   ]
  },
  {
   "cell_type": "code",
   "execution_count": 26,
   "id": "12822faf",
   "metadata": {},
   "outputs": [],
   "source": [
    "a=10\n",
    "b=10.0\n",
    "c=1+5j"
   ]
  },
  {
   "cell_type": "code",
   "execution_count": 27,
   "id": "87436186",
   "metadata": {},
   "outputs": [
    {
     "data": {
      "text/plain": [
       "int"
      ]
     },
     "execution_count": 27,
     "metadata": {},
     "output_type": "execute_result"
    }
   ],
   "source": [
    "type(a)"
   ]
  },
  {
   "cell_type": "code",
   "execution_count": 28,
   "id": "3e3d89df",
   "metadata": {},
   "outputs": [
    {
     "data": {
      "text/plain": [
       "float"
      ]
     },
     "execution_count": 28,
     "metadata": {},
     "output_type": "execute_result"
    }
   ],
   "source": [
    "type(b)"
   ]
  },
  {
   "cell_type": "code",
   "execution_count": 29,
   "id": "34777c60",
   "metadata": {},
   "outputs": [
    {
     "data": {
      "text/plain": [
       "complex"
      ]
     },
     "execution_count": 29,
     "metadata": {},
     "output_type": "execute_result"
    }
   ],
   "source": [
    "type(c)"
   ]
  },
  {
   "cell_type": "code",
   "execution_count": 30,
   "id": "3ff0b654",
   "metadata": {},
   "outputs": [],
   "source": [
    "#String "
   ]
  },
  {
   "cell_type": "code",
   "execution_count": 34,
   "id": "7143d91c",
   "metadata": {},
   "outputs": [],
   "source": [
    "a='Jay'\n",
    "b=\"Anything\""
   ]
  },
  {
   "cell_type": "code",
   "execution_count": 35,
   "id": "2c629c80",
   "metadata": {},
   "outputs": [
    {
     "data": {
      "text/plain": [
       "str"
      ]
     },
     "execution_count": 35,
     "metadata": {},
     "output_type": "execute_result"
    }
   ],
   "source": [
    "type(a)"
   ]
  },
  {
   "cell_type": "code",
   "execution_count": 36,
   "id": "f57e827c",
   "metadata": {},
   "outputs": [
    {
     "name": "stdout",
     "output_type": "stream",
     "text": [
      "nything\n"
     ]
    }
   ],
   "source": [
    "print(b[1:])"
   ]
  },
  {
   "cell_type": "code",
   "execution_count": 37,
   "id": "db00cdaa",
   "metadata": {},
   "outputs": [
    {
     "name": "stdout",
     "output_type": "stream",
     "text": [
      "g\n"
     ]
    }
   ],
   "source": [
    "print(b[-1:])"
   ]
  },
  {
   "cell_type": "code",
   "execution_count": 38,
   "id": "c306e9f7",
   "metadata": {},
   "outputs": [],
   "source": [
    "#List Type"
   ]
  },
  {
   "cell_type": "code",
   "execution_count": 4,
   "id": "9b8e93d1",
   "metadata": {},
   "outputs": [],
   "source": [
    "l1=[1,2,3,4,5,]"
   ]
  },
  {
   "cell_type": "code",
   "execution_count": 5,
   "id": "46300c7e",
   "metadata": {},
   "outputs": [
    {
     "name": "stdout",
     "output_type": "stream",
     "text": [
      "[1, 2, 3, 4, 5]\n"
     ]
    }
   ],
   "source": [
    "print(l1)"
   ]
  },
  {
   "cell_type": "code",
   "execution_count": 6,
   "id": "fd38d934",
   "metadata": {},
   "outputs": [
    {
     "name": "stdout",
     "output_type": "stream",
     "text": [
      "[3, 4]\n"
     ]
    }
   ],
   "source": [
    "print(l1[2:4])"
   ]
  },
  {
   "cell_type": "code",
   "execution_count": 7,
   "id": "14bfad36",
   "metadata": {},
   "outputs": [
    {
     "name": "stdout",
     "output_type": "stream",
     "text": [
      "[3, 4]\n"
     ]
    }
   ],
   "source": [
    "print(l1[-3:-1])"
   ]
  },
  {
   "cell_type": "code",
   "execution_count": null,
   "id": "7fd47426",
   "metadata": {},
   "outputs": [],
   "source": [
    "l1=[]"
   ]
  },
  {
   "cell_type": "code",
   "execution_count": 2,
   "id": "927f3938",
   "metadata": {},
   "outputs": [
    {
     "name": "stdout",
     "output_type": "stream",
     "text": [
      "Enter number of values: 4\n"
     ]
    }
   ],
   "source": [
    "t=int(input(\"Enter number of values: \"))\n",
    "    "
   ]
  },
  {
   "cell_type": "code",
   "execution_count": 8,
   "id": "75ba5de7",
   "metadata": {},
   "outputs": [
    {
     "name": "stdout",
     "output_type": "stream",
     "text": [
      "Enter value: jay\n",
      "Enter value: king\n",
      "Enter value: captain\n",
      "Enter value: blue\n"
     ]
    }
   ],
   "source": [
    "for i in range(0,t):\n",
    "    L=input(\"Enter value: \")\n",
    "    l1.append(L)\n",
    "    "
   ]
  },
  {
   "cell_type": "code",
   "execution_count": 9,
   "id": "64efd4da",
   "metadata": {},
   "outputs": [
    {
     "name": "stdout",
     "output_type": "stream",
     "text": [
      "[1, 2, 3, 4, 5, 'jay', 'king', 'captain', 'blue']\n"
     ]
    }
   ],
   "source": [
    "print(l1)"
   ]
  },
  {
   "cell_type": "code",
   "execution_count": 10,
   "id": "5b0de301",
   "metadata": {},
   "outputs": [],
   "source": [
    "#Tuple"
   ]
  },
  {
   "cell_type": "code",
   "execution_count": 19,
   "id": "f9d5b3c9",
   "metadata": {},
   "outputs": [],
   "source": [
    "tup1=(1,2,3,4)"
   ]
  },
  {
   "cell_type": "code",
   "execution_count": 20,
   "id": "98e32fe3",
   "metadata": {},
   "outputs": [
    {
     "name": "stdout",
     "output_type": "stream",
     "text": [
      "(1, 2, 3, 4)\n"
     ]
    }
   ],
   "source": [
    "print(tup1)"
   ]
  },
  {
   "cell_type": "code",
   "execution_count": 23,
   "id": "e5ef4954",
   "metadata": {},
   "outputs": [
    {
     "name": "stdout",
     "output_type": "stream",
     "text": [
      "(3, 4)\n"
     ]
    }
   ],
   "source": [
    "print(tup1[2:])"
   ]
  },
  {
   "cell_type": "code",
   "execution_count": 24,
   "id": "4455a77a",
   "metadata": {},
   "outputs": [
    {
     "ename": "TypeError",
     "evalue": "'tuple' object does not support item assignment",
     "output_type": "error",
     "traceback": [
      "\u001b[0;31m---------------------------------------------------------------------------\u001b[0m",
      "\u001b[0;31mTypeError\u001b[0m                                 Traceback (most recent call last)",
      "\u001b[0;32m<ipython-input-24-a60f8cf23dc4>\u001b[0m in \u001b[0;36m<module>\u001b[0;34m\u001b[0m\n\u001b[0;32m----> 1\u001b[0;31m \u001b[0mtup1\u001b[0m\u001b[0;34m[\u001b[0m\u001b[0;36m1\u001b[0m\u001b[0;34m]\u001b[0m\u001b[0;34m=\u001b[0m\u001b[0;36m3\u001b[0m\u001b[0;34m\u001b[0m\u001b[0;34m\u001b[0m\u001b[0m\n\u001b[0m",
      "\u001b[0;31mTypeError\u001b[0m: 'tuple' object does not support item assignment"
     ]
    }
   ],
   "source": [
    "tup1[1]=3"
   ]
  },
  {
   "cell_type": "code",
   "execution_count": 25,
   "id": "5e15edb4",
   "metadata": {},
   "outputs": [],
   "source": [
    "#Dictionary Datatype"
   ]
  },
  {
   "cell_type": "code",
   "execution_count": 1,
   "id": "b788c903",
   "metadata": {},
   "outputs": [],
   "source": [
    "dic1={\"jay\":90, \"vijay\":80, \"ram\":90}"
   ]
  },
  {
   "cell_type": "code",
   "execution_count": 2,
   "id": "6873e58a",
   "metadata": {},
   "outputs": [
    {
     "name": "stdout",
     "output_type": "stream",
     "text": [
      "{'jay': 90, 'vijay': 80, 'ram': 90}\n"
     ]
    }
   ],
   "source": [
    "print(dic1)"
   ]
  },
  {
   "cell_type": "code",
   "execution_count": 3,
   "id": "4163acb4",
   "metadata": {},
   "outputs": [
    {
     "data": {
      "text/plain": [
       "dict"
      ]
     },
     "execution_count": 3,
     "metadata": {},
     "output_type": "execute_result"
    }
   ],
   "source": [
    "type(dic1)"
   ]
  },
  {
   "cell_type": "code",
   "execution_count": 4,
   "id": "ee816e3b",
   "metadata": {},
   "outputs": [
    {
     "data": {
      "text/plain": [
       "{'jay': 90, 'vijay': 80, 'ram': 90}"
      ]
     },
     "execution_count": 4,
     "metadata": {},
     "output_type": "execute_result"
    }
   ],
   "source": [
    "dic1"
   ]
  },
  {
   "cell_type": "code",
   "execution_count": null,
   "id": "f2ca87c5",
   "metadata": {},
   "outputs": [],
   "source": []
  }
 ],
 "metadata": {
  "kernelspec": {
   "display_name": "Python 3",
   "language": "python",
   "name": "python3"
  },
  "language_info": {
   "codemirror_mode": {
    "name": "ipython",
    "version": 3
   },
   "file_extension": ".py",
   "mimetype": "text/x-python",
   "name": "python",
   "nbconvert_exporter": "python",
   "pygments_lexer": "ipython3",
   "version": "3.8.5"
  }
 },
 "nbformat": 4,
 "nbformat_minor": 5
}

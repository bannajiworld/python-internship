{
 "cells": [
  {
   "cell_type": "code",
   "execution_count": 1,
   "id": "8da3ab46",
   "metadata": {},
   "outputs": [],
   "source": [
    "#functions"
   ]
  },
  {
   "cell_type": "code",
   "execution_count": 1,
   "id": "c79062c1",
   "metadata": {},
   "outputs": [
    {
     "name": "stdout",
     "output_type": "stream",
     "text": [
      "jay\n"
     ]
    }
   ],
   "source": [
    "def function():\n",
    "    print(\"jay\")\n",
    "    \n",
    "#function call\n",
    "function()"
   ]
  },
  {
   "cell_type": "code",
   "execution_count": 4,
   "id": "b099af0f",
   "metadata": {},
   "outputs": [
    {
     "name": "stdout",
     "output_type": "stream",
     "text": [
      "my hobby is  cricket\n"
     ]
    }
   ],
   "source": [
    "#perameter with function\n",
    "def name(x):\n",
    "    print(\"my hobby is \", x)\n",
    "    \n",
    "name(\"cricket\")"
   ]
  },
  {
   "cell_type": "code",
   "execution_count": 6,
   "id": "9b10597b",
   "metadata": {},
   "outputs": [
    {
     "data": {
      "text/plain": [
       "'jay'"
      ]
     },
     "execution_count": 6,
     "metadata": {},
     "output_type": "execute_result"
    }
   ],
   "source": [
    "def x(name):\n",
    "    return name\n",
    "x(\"jay\")"
   ]
  },
  {
   "cell_type": "code",
   "execution_count": 7,
   "id": "27a9f900",
   "metadata": {},
   "outputs": [
    {
     "data": {
      "text/plain": [
       "('jay', 20)"
      ]
     },
     "execution_count": 7,
     "metadata": {},
     "output_type": "execute_result"
    }
   ],
   "source": [
    "def x(name, age):\n",
    "    return name, age\n",
    "x(\"jay\", 20)"
   ]
  },
  {
   "cell_type": "code",
   "execution_count": 9,
   "id": "b06cfeb0",
   "metadata": {},
   "outputs": [
    {
     "data": {
      "text/plain": [
       "22"
      ]
     },
     "execution_count": 9,
     "metadata": {},
     "output_type": "execute_result"
    }
   ],
   "source": [
    "def sum(x=10,y=12):\n",
    "    return x+y\n",
    "sum()"
   ]
  },
  {
   "cell_type": "code",
   "execution_count": 13,
   "id": "991548f2",
   "metadata": {},
   "outputs": [
    {
     "data": {
      "text/plain": [
       "23"
      ]
     },
     "execution_count": 13,
     "metadata": {},
     "output_type": "execute_result"
    }
   ],
   "source": [
    "sum(x=12,y=11)"
   ]
  },
  {
   "cell_type": "code",
   "execution_count": 14,
   "id": "15d15de9",
   "metadata": {},
   "outputs": [],
   "source": [
    "#variables "
   ]
  },
  {
   "cell_type": "code",
   "execution_count": 16,
   "id": "3c34346b",
   "metadata": {},
   "outputs": [],
   "source": [
    "#global\n",
    "#local"
   ]
  },
  {
   "cell_type": "code",
   "execution_count": 19,
   "id": "e5ee393c",
   "metadata": {},
   "outputs": [
    {
     "name": "stdout",
     "output_type": "stream",
     "text": [
      "29\n",
      "20\n"
     ]
    }
   ],
   "source": [
    "def sum(x,y):\n",
    "    print(x+y)\n",
    "\n",
    "x,y=10,10\n",
    "sum(19,10)\n",
    "print(x+y)"
   ]
  },
  {
   "cell_type": "code",
   "execution_count": null,
   "id": "073dd055",
   "metadata": {},
   "outputs": [],
   "source": []
  }
 ],
 "metadata": {
  "kernelspec": {
   "display_name": "Python 3",
   "language": "python",
   "name": "python3"
  },
  "language_info": {
   "codemirror_mode": {
    "name": "ipython",
    "version": 3
   },
   "file_extension": ".py",
   "mimetype": "text/x-python",
   "name": "python",
   "nbconvert_exporter": "python",
   "pygments_lexer": "ipython3",
   "version": "3.8.5"
  }
 },
 "nbformat": 4,
 "nbformat_minor": 5
}

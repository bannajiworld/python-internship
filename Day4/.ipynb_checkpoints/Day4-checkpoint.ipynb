{
 "cells": [
  {
   "cell_type": "code",
   "execution_count": 1,
   "id": "8da3ab46",
   "metadata": {},
   "outputs": [],
   "source": [
    "#functions"
   ]
  },
  {
   "cell_type": "code",
   "execution_count": 1,
   "id": "c79062c1",
   "metadata": {},
   "outputs": [
    {
     "name": "stdout",
     "output_type": "stream",
     "text": [
      "jay\n"
     ]
    }
   ],
   "source": [
    "def function():\n",
    "    print(\"jay\")\n",
    "    \n",
    "#function call\n",
    "function()"
   ]
  },
  {
   "cell_type": "code",
   "execution_count": 4,
   "id": "dc83ff7f",
   "metadata": {},
   "outputs": [
    {
     "name": "stdout",
     "output_type": "stream",
     "text": [
      "my hobby is  cricket\n"
     ]
    }
   ],
   "source": [
    "#perameter with function\n",
    "def name(x):\n",
    "    print(\"my hobby is \", x)\n",
    "    \n",
    "name(\"cricket\")"
   ]
  },
  {
   "cell_type": "code",
   "execution_count": 6,
   "id": "c6c3b884",
   "metadata": {},
   "outputs": [
    {
     "data": {
      "text/plain": [
       "'jay'"
      ]
     },
     "execution_count": 6,
     "metadata": {},
     "output_type": "execute_result"
    }
   ],
   "source": [
    "def x(name):\n",
    "    return name\n",
    "x(\"jay\")"
   ]
  },
  {
   "cell_type": "code",
   "execution_count": 7,
   "id": "1f165eb2",
   "metadata": {},
   "outputs": [
    {
     "data": {
      "text/plain": [
       "('jay', 20)"
      ]
     },
     "execution_count": 7,
     "metadata": {},
     "output_type": "execute_result"
    }
   ],
   "source": [
    "def x(name, age):\n",
    "    return name, age\n",
    "x(\"jay\", 20)"
   ]
  },
  {
   "cell_type": "code",
   "execution_count": 9,
   "id": "0bb6667b",
   "metadata": {},
   "outputs": [
    {
     "data": {
      "text/plain": [
       "22"
      ]
     },
     "execution_count": 9,
     "metadata": {},
     "output_type": "execute_result"
    }
   ],
   "source": [
    "def sum(x=10,y=12):\n",
    "    return x+y\n",
    "sum()"
   ]
  },
  {
   "cell_type": "code",
   "execution_count": 13,
   "id": "7728911f",
   "metadata": {},
   "outputs": [
    {
     "data": {
      "text/plain": [
       "23"
      ]
     },
     "execution_count": 13,
     "metadata": {},
     "output_type": "execute_result"
    }
   ],
   "source": [
    "sum(x=12,y=11)"
   ]
  },
  {
   "cell_type": "code",
   "execution_count": 14,
   "id": "04eb1e2b",
   "metadata": {},
   "outputs": [],
   "source": [
    "#variables "
   ]
  },
  {
   "cell_type": "code",
   "execution_count": 16,
   "id": "d0594ad1",
   "metadata": {},
   "outputs": [],
   "source": [
    "#global\n",
    "#local"
   ]
  },
  {
   "cell_type": "code",
   "execution_count": 20,
   "id": "2559e9a6",
   "metadata": {},
   "outputs": [
    {
     "name": "stdout",
     "output_type": "stream",
     "text": [
      "inside value 29\n",
      "20\n"
     ]
    }
   ],
   "source": [
    "def sum(x,y):\n",
    "    print(\"inside value\",x+y)\n",
    "\n",
    "x,y=10,10\n",
    "sum(19,10)\n",
    "print(x+y)"
   ]
  },
  {
   "cell_type": "code",
   "execution_count": 21,
   "id": "09465329",
   "metadata": {},
   "outputs": [],
   "source": [
    "#modual in python"
   ]
  },
  {
   "cell_type": "code",
   "execution_count": 26,
   "id": "9018e828",
   "metadata": {},
   "outputs": [],
   "source": [
    "import random \n",
    "x=random.randint(1,10)"
   ]
  },
  {
   "cell_type": "code",
   "execution_count": 27,
   "id": "90825d8d",
   "metadata": {},
   "outputs": [
    {
     "name": "stdout",
     "output_type": "stream",
     "text": [
      "7\n"
     ]
    }
   ],
   "source": [
    "print(x)"
   ]
  },
  {
   "cell_type": "code",
   "execution_count": 28,
   "id": "fa1f8b09",
   "metadata": {},
   "outputs": [],
   "source": [
    "#operators in python"
   ]
  },
  {
   "cell_type": "code",
   "execution_count": 29,
   "id": "3e1c7473",
   "metadata": {},
   "outputs": [],
   "source": [
    "#arithmetic Operators"
   ]
  },
  {
   "cell_type": "code",
   "execution_count": 30,
   "id": "9e7e70d1",
   "metadata": {},
   "outputs": [
    {
     "name": "stdout",
     "output_type": "stream",
     "text": [
      "sum 40\n",
      "sub -20\n",
      "mul 300\n",
      "div 0.3333333333333333\n",
      "mod 10\n"
     ]
    }
   ],
   "source": [
    "x,y=10,30\n",
    "print(\"sum\", x+y)\n",
    "print(\"sub\", x-y)\n",
    "print(\"mul\", x*y)\n",
    "print(\"div\", x/y)\n",
    "print(\"mod\", x%y)"
   ]
  },
  {
   "cell_type": "code",
   "execution_count": 31,
   "id": "ea7a6dd9",
   "metadata": {},
   "outputs": [],
   "source": [
    "#comparison Operators"
   ]
  },
  {
   "cell_type": "code",
   "execution_count": 33,
   "id": "5f1909fe",
   "metadata": {},
   "outputs": [
    {
     "name": "stdout",
     "output_type": "stream",
     "text": [
      "False\n",
      "True\n",
      "False\n",
      "True\n",
      "False\n",
      "True\n"
     ]
    }
   ],
   "source": [
    "print(x>y)\n",
    "print(x<y)\n",
    "print(x==y)\n",
    "print(x!=y)\n",
    "print(x>=y)\n",
    "print(x<=y)\n"
   ]
  },
  {
   "cell_type": "code",
   "execution_count": 34,
   "id": "01e85a87",
   "metadata": {},
   "outputs": [],
   "source": [
    "#logical opearator"
   ]
  },
  {
   "cell_type": "code",
   "execution_count": 35,
   "id": "23944ce1",
   "metadata": {},
   "outputs": [],
   "source": [
    "x1,x2,x3=10,11,13"
   ]
  },
  {
   "cell_type": "code",
   "execution_count": 36,
   "id": "117a85fc",
   "metadata": {},
   "outputs": [
    {
     "name": "stdout",
     "output_type": "stream",
     "text": [
      "x3 is largest\n"
     ]
    }
   ],
   "source": [
    "if x1>x2 and x1>x3:\n",
    "    print(\"x1 is largest\")\n",
    "if x2>x1 and x2>x3:\n",
    "    print(\"x2 is largest\")\n",
    "if x3>x2 and x3>x1:\n",
    "    print(\"x3 is largest\")\n",
    "    "
   ]
  },
  {
   "cell_type": "code",
   "execution_count": 37,
   "id": "86c97320",
   "metadata": {},
   "outputs": [],
   "source": [
    "#or"
   ]
  },
  {
   "cell_type": "code",
   "execution_count": 38,
   "id": "e3cf1963",
   "metadata": {},
   "outputs": [
    {
     "name": "stdout",
     "output_type": "stream",
     "text": [
      "enter name: jay\n",
      "welcome in\n"
     ]
    }
   ],
   "source": [
    "x= input(\"enter name: \")\n",
    "if (x==\"jay\" or x==\"root\"):\n",
    "    print(\"welcome in\")\n",
    "else:\n",
    "    print(\"sorry\")"
   ]
  },
  {
   "cell_type": "code",
   "execution_count": 39,
   "id": "23df5174",
   "metadata": {},
   "outputs": [
    {
     "name": "stdout",
     "output_type": "stream",
     "text": [
      "enter name: kak\n",
      "sorry\n"
     ]
    }
   ],
   "source": [
    "x= input(\"enter name: \")\n",
    "if (x==\"jay\" or x==\"root\"):\n",
    "    print(\"welcome in\")\n",
    "else:\n",
    "    print(\"sorry\")"
   ]
  },
  {
   "cell_type": "code",
   "execution_count": 40,
   "id": "3bcc6ba5",
   "metadata": {},
   "outputs": [],
   "source": [
    "#assignment operators"
   ]
  },
  {
   "cell_type": "code",
   "execution_count": 46,
   "id": "22287dfe",
   "metadata": {},
   "outputs": [
    {
     "name": "stdout",
     "output_type": "stream",
     "text": [
      "15\n",
      "5\n"
     ]
    }
   ],
   "source": [
    "x=10\n",
    "print(x+5)\n",
    "x-=5\n",
    "print(x)"
   ]
  },
  {
   "cell_type": "code",
   "execution_count": 48,
   "id": "11cf9a0c",
   "metadata": {},
   "outputs": [
    {
     "name": "stdout",
     "output_type": "stream",
     "text": [
      "10\n"
     ]
    }
   ],
   "source": [
    "x=10\n",
    "x=x+5\n",
    "x-=5\n",
    "print(x)"
   ]
  },
  {
   "cell_type": "code",
   "execution_count": null,
   "id": "37c9ab46",
   "metadata": {},
   "outputs": [],
   "source": []
  }
 ],
 "metadata": {
  "kernelspec": {
   "display_name": "Python 3",
   "language": "python",
   "name": "python3"
  },
  "language_info": {
   "codemirror_mode": {
    "name": "ipython",
    "version": 3
   },
   "file_extension": ".py",
   "mimetype": "text/x-python",
   "name": "python",
   "nbconvert_exporter": "python",
   "pygments_lexer": "ipython3",
   "version": "3.8.5"
  }
 },
 "nbformat": 4,
 "nbformat_minor": 5
}
